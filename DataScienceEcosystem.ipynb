{
  "metadata": {
    "kernelspec": {
      "name": "python",
      "display_name": "Python (Pyodide)",
      "language": "python"
    },
    "language_info": {
      "codemirror_mode": {
        "name": "python",
        "version": 3
      },
      "file_extension": ".py",
      "mimetype": "text/x-python",
      "name": "python",
      "nbconvert_exporter": "python",
      "pygments_lexer": "ipython3",
      "version": "3.8"
    }
  },
  "nbformat_minor": 5,
  "nbformat": 4,
  "cells": [
    {
      "id": "a8a293db-ab36-45f1-a0c1-2e79e75b9404",
      "cell_type": "markdown",
      "source": "# *Data Science Tools and Ecosystem*\n\nIn this notebook, Data Science Tools and Ecosystem are summarized. Through various exercises, we will explore key data science languages, libraries, tools, and simple arithmetic operations using Python.\n\n**Note**: The Excercise 1 is the creation of this Jupyter Notebook, Excercise 2 consist in making the Title and Excercise 3 is the previous introduction to this Jupyter Notebook.",
      "metadata": {}
    },
    {
      "id": "3ef22a9c-dbad-4b06-ba57-24dbb7784e85",
      "cell_type": "markdown",
      "source": "# *Exercise 4 - Create a markdown cell to list data science languages*\nSome of the popular languages that Data Scientists use are:\n\n1. Python\n2. R\n3. SQL\n4. Julia\n5. Scala\n6. Java\n7. C++\n",
      "metadata": {}
    },
    {
      "id": "113556b8-2c79-4ad0-93bc-4542e06acf9f",
      "cell_type": "markdown",
      "source": "# *Exercise 5 - Create a markdown cell to list data science libraries*\n\nSome of the commonly used libraries used by Data Scientists include:\n\n### Popular Data Science Libraries\n\n1. NumPy\n2. Pandas\n3. Matplotlib\n4. SciPy\n5. Scikit-learn\n6. TensorFlow\n7. Keras\n8. PyTorch\n",
      "metadata": {}
    },
    {
      "id": "7a7bef25-ba5a-49b9-b38e-0327b4fc6837",
      "cell_type": "markdown",
      "source": "# Exercise 6 - Create a markdown cell with a table of Data Science tools*\n\n \n| Data Science Tools     | Description                                       |\n|------------------------|---------------------------------------------------|\n| Jupyter Notebook        | An open-source tool for creating documents with live code. |\n| RStudio                | IDE for R and Python used for statistical computing. |\n| Apache Zeppelin         | A web-based notebook for interactive data analytics. |\n\n",
      "metadata": {}
    },
    {
      "id": "9dbdcd17-d4b9-4424-97a3-aea092fadba4",
      "cell_type": "markdown",
      "source": "### Exercise 7 - Create a markdown cell introducing arithmetic expression examples \n\nBelow are a few examples of evaluating arithmetic expressions in Python.\n\n1. **Addition:** 10 + 3 = 13\n\n2. **Subtraction:** 10 - 5 = 5\n\n3. **Multiplication:** 3 * 10 = 30\n\n4. **Division:** 10 / 5 = 2\n\n5. **Exponentiation:** 3 ** 3 = 27\n\n6. **Parentheses and mixed operations:** (5 * 5) + 5 = 30\n\n7. **Mixed operations with exponents and division:** 2 ** 3 / 4 + 5 = 7.0\n\n8. **Parentheses with nested operations:** (5 + (3 * 5)) - 5 = 15\n\n9. **Exponentiation and square roots:** 16 ** (1/2) = 4.0 (Square root of 16)\n\n10. **Compound expression with multiple operations:**(3 * 4) + (5 ** 2) - (18 / 3) = 31.0",
      "metadata": {}
    },
    {
      "id": "9ceb55c3-32c2-4bc9-9e16-9fc60e04f6b6",
      "cell_type": "markdown",
      "source": "# *Exercise 8 - Create a code cell to multiply and add numbers*",
      "metadata": {}
    },
    {
      "id": "069cea9a-798b-44ce-b03e-6eb1b845c9dd",
      "cell_type": "code",
      "source": "# This is a simple arithmetic expression to multiply then add integers\n(3 * 4) + 5",
      "metadata": {
        "trusted": true
      },
      "outputs": [
        {
          "execution_count": 16,
          "output_type": "execute_result",
          "data": {
            "text/plain": "17"
          },
          "metadata": {}
        }
      ],
      "execution_count": 16
    },
    {
      "id": "aa3ad2d3-7bb5-49b7-aed0-02ba528b585e",
      "cell_type": "markdown",
      "source": "# *Exercise 9 - Create a code cell to convert minutes to hours*",
      "metadata": {}
    },
    {
      "id": "3493a2e0-60ac-439d-9065-1fb11fe44bc3",
      "cell_type": "code",
      "source": "# This will convert 200 minutes to hours by dividing by 60\n200 / 60",
      "metadata": {
        "trusted": true
      },
      "outputs": [
        {
          "execution_count": 17,
          "output_type": "execute_result",
          "data": {
            "text/plain": "3.3333333333333335"
          },
          "metadata": {}
        }
      ],
      "execution_count": 17
    },
    {
      "id": "c45f0d9b-78ce-4889-9638-875227e7d75c",
      "cell_type": "markdown",
      "source": "## *Exercise 10 - Insert a markdown cell to list Objectives*\nObjectives:\n1. Identifying lines of code and Markdown\n2. List popular languages for Data Science\n3. Identify commonly used Data Science libraries\n4. Explore different open-source Data Science tools\n5. Perform basic arithmetic operations in Python\n6. Understand the process of converting units in Python (e.g., minutes to hours)",
      "metadata": {}
    },
    {
      "id": "a48c2750-9be6-42cd-b8c8-b8d43b64ec7c",
      "cell_type": "markdown",
      "source": "# **Exercise 11 - Create a markdown cell to indicate the Author's name**\n\n**Author**\nEnzo Farias Andrade\nUNAB 2024",
      "metadata": {}
    },
    {
      "id": "df8248a2-201e-413a-a3db-31f27705b7a8",
      "cell_type": "code",
      "source": "",
      "metadata": {
        "trusted": true
      },
      "outputs": [],
      "execution_count": null
    }
  ]
}